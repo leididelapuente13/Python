{
 "cells": [
  {
   "cell_type": "code",
   "execution_count": null,
   "id": "85028793",
   "metadata": {},
   "outputs": [
    {
     "ename": "",
     "evalue": "",
     "output_type": "error",
     "traceback": [
      "\u001b[1;31mThe kernel failed to start due to an error with the 'pyzmq' module. Consider re-installing this module.\n",
      "\u001b[1;31mClick <a href='https://aka.ms/kernelFailuresPyzmq'>here</a> for more info."
     ]
    }
   ],
   "source": [
    "!pip install pytest"
   ]
  },
  {
   "cell_type": "code",
   "execution_count": 2,
   "id": "128df420",
   "metadata": {},
   "outputs": [
    {
     "name": "stdout",
     "output_type": "stream",
     "text": [
      "<class 'str'>\n"
     ]
    }
   ],
   "source": [
    "name = \"Gabriel\"\n",
    "print(type(name))"
   ]
  },
  {
   "cell_type": "code",
   "execution_count": 4,
   "id": "3547b2a1",
   "metadata": {},
   "outputs": [
    {
     "name": "stdout",
     "output_type": "stream",
     "text": [
      "Area del triangulo: 4.0\n"
     ]
    }
   ],
   "source": [
    "base = 2\n",
    "altura = 4\n",
    "area = (base * altura) / 2\n",
    "\n",
    "print(\"Area del triangulo:\", area)"
   ]
  },
  {
   "cell_type": "code",
   "execution_count": 5,
   "id": "f2877568",
   "metadata": {},
   "outputs": [
    {
     "name": "stdout",
     "output_type": "stream",
     "text": [
      "14.872099940511603\n"
     ]
    }
   ],
   "source": [
    "peso = 40\n",
    "altura = 1.64\n",
    "imc = peso / altura**2\n",
    "print(imc)"
   ]
  },
  {
   "cell_type": "code",
   "execution_count": 7,
   "id": "84455d66",
   "metadata": {},
   "outputs": [
    {
     "name": "stdout",
     "output_type": "stream",
     "text": [
      "area del circulo:  452.3893421169302\n",
      "perimetro circulo 75.39822368615503\n"
     ]
    }
   ],
   "source": [
    "import math\n",
    "radio = 12\n",
    "area_circulo = math.pi * radio**2\n",
    "perimetro = 2 * math.pi * radio\n",
    "print(\"area del circulo: \", area_circulo)\n",
    "print(\"perimetro circulo\", perimetro)"
   ]
  },
  {
   "cell_type": "code",
   "execution_count": 14,
   "id": "02a6f80f",
   "metadata": {},
   "outputs": [
    {
     "name": "stdout",
     "output_type": "stream",
     "text": [
      "no lo es\n"
     ]
    }
   ],
   "source": [
    "year = 2023\n",
    "\n",
    "if (year % 4 == 0 and year % 100 != 0 or year % 400 == 0): \n",
    "    print(\"es bisiesto\")\n",
    "else:\n",
    "    print(\"no lo es\")"
   ]
  },
  {
   "cell_type": "code",
   "execution_count": null,
   "id": "a36b0ab3",
   "metadata": {},
   "outputs": [],
   "source": [
    "edad = 18\n",
    "destino = \"Cartagena\"\n",
    "descuento = 0\n",
    "\n",
    "precio_base = 50\n",
    "\n",
    "if(edad > 60):\n",
    "    descuento = 0.70\n",
    "elif(edad < 3):\n",
    "    descuento = 0.50\n",
    "\n",
    "if(destino == \"Cartagena\"): \n",
    "    precio_base -= 10\n",
    "elif(destino == \"Cali\"):\n",
    "    precio_base -= 20\n",
    " "
   ]
  },
  {
   "cell_type": "code",
   "execution_count": 20,
   "id": "a77c1755",
   "metadata": {},
   "outputs": [
    {
     "name": "stdout",
     "output_type": "stream",
     "text": [
      "Hello Gabriel\n"
     ]
    }
   ],
   "source": [
    "def greet(name: str):\n",
    "    \"\"\"Greets the user\"\"\"\n",
    "    print(\"Hello\", name)\n",
    "\n",
    "greet(\"Gabriel\")"
   ]
  },
  {
   "cell_type": "code",
   "execution_count": 36,
   "id": "d25f106c",
   "metadata": {},
   "outputs": [
    {
     "name": "stdout",
     "output_type": "stream",
     "text": [
      "cantidad:  2\n"
     ]
    }
   ],
   "source": [
    "palabra = \"Que\"\n",
    "\n",
    "def contar_vocales(palabra: str):\n",
    "\n",
    "    palabra = palabra.lower()\n",
    "    vocales = [\"a\", \"e\", \"i\", \"o\", \"u\"]\n",
    "    cantidad_vocales = 0\n",
    "\n",
    "    for letra in palabra:\n",
    "        if letra in vocales:\n",
    "            cantidad_vocales+=1\n",
    "\n",
    "    print(\"cantidad: \", cantidad_vocales)\n",
    "\n",
    "contar_vocales(palabra)"
   ]
  },
  {
   "cell_type": "code",
   "execution_count": 37,
   "id": "b013f5e1",
   "metadata": {},
   "outputs": [
    {
     "name": "stdout",
     "output_type": "stream",
     "text": [
      "99.7 199.7\n"
     ]
    }
   ],
   "source": [
    "\n",
    "def calucar_cuenta (total_cuenta: int, porcentaje_propina: int):\n",
    "    if(total_cuenta == 0):\n",
    "        raise Exception(\"Total no valido\")\n",
    "    if(porcentaje_propina > 20):\n",
    "        raise Exception(\"Porcentaje de propina no permitido\")\n",
    "    propina = total_cuenta * porcentaje_propina\n",
    "    total_pagar = total_cuenta + propina\n",
    "    return (propina, total_pagar)\n",
    "propina, total = calucar_cuenta(100, 0.30)\n",
    "print(propina, total)\n",
    "\n",
    "\n",
    "    "
   ]
  },
  {
   "cell_type": "code",
   "execution_count": 39,
   "id": "f10795e8",
   "metadata": {},
   "outputs": [],
   "source": [
    "class Dog :\n",
    "    def __init__(self, name, breed, color, age):\n",
    "        self.name = name\n",
    "        self.breed = breed\n",
    "        self.color = color\n",
    "        self.age = age\n",
    "\n",
    "    def _bark(self):\n",
    "        print(\"Woof\")\n",
    "\n",
    "    def increase_age(self):\n",
    "        self.age += 1\n",
    "    "
   ]
  },
  {
   "cell_type": "code",
   "execution_count": 40,
   "id": "bd1e5fa8",
   "metadata": {},
   "outputs": [
    {
     "name": "stdout",
     "output_type": "stream",
     "text": [
      "Woof\n"
     ]
    }
   ],
   "source": [
    "dog = Dog(\"Firulais\", \"Husky\", \"White\", 1)\n",
    "dog._bark()"
   ]
  },
  {
   "cell_type": "code",
   "execution_count": 41,
   "id": "8f17c494",
   "metadata": {},
   "outputs": [],
   "source": [
    "class CuentaBancaria:\n",
    "    def __init__(self, titular:str, saldo:float=0.0):\n",
    "        self._titular = titular\n",
    "        self._saldo = saldo\n",
    "\n",
    "    def _depositar(self, cantidad: float):\n",
    "        if(cantidad <= 0):\n",
    "            raise Exception(\"La cantidad a depositar no es valida\")\n",
    "        \n",
    "        self._saldo += cantidad\n",
    "    \n",
    "    def _retirar(self, cantidad: float):\n",
    "        if(cantidad > self._saldo):\n",
    "            raise Exception(\"Saldo insuficiente\")\n",
    "        \n",
    "        if(cantidad <= 0):\n",
    "            raise Exception(\"La cantidad a depositar no es valida\")\n",
    "        \n",
    "        self._saldo -= cantidad\n",
    "        \n",
    "    def imprimir_saldo(self):\n",
    "        return self._saldo\n",
    "    \n",
    "    def imprimir_titular(self):\n",
    "        return self._titular"
   ]
  },
  {
   "cell_type": "code",
   "execution_count": 48,
   "id": "0d316d2f",
   "metadata": {},
   "outputs": [
    {
     "name": "stdout",
     "output_type": "stream",
     "text": [
      "10.0\n"
     ]
    }
   ],
   "source": [
    "mi_cuenta = CuentaBancaria(\"Alguien\")\n",
    "\n",
    "mi_cuenta._depositar(10)\n",
    "\n",
    "print(mi_cuenta._saldo)"
   ]
  }
 ],
 "metadata": {
  "kernelspec": {
   "display_name": ".venv",
   "language": "python",
   "name": "python3"
  },
  "language_info": {
   "codemirror_mode": {
    "name": "ipython",
    "version": 3
   },
   "file_extension": ".py",
   "mimetype": "text/x-python",
   "name": "python",
   "nbconvert_exporter": "python",
   "pygments_lexer": "ipython3",
   "version": "3.12.4"
  }
 },
 "nbformat": 4,
 "nbformat_minor": 5
}
